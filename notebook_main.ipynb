{
 "cells": [
  {
   "cell_type": "markdown",
   "id": "61e4cc44",
   "metadata": {},
   "source": [
    "# <a>Projeto 2 - Regressão usando Scikit Learn</a>\n",
    "\n",
    "*Let's Data - Jornada Cientista da Dados*"
   ]
  },
  {
   "cell_type": "markdown",
   "id": "695f673f",
   "metadata": {},
   "source": [
    "## <a> Motivação </a>\n",
    "\n",
    "O cientista de dados é contratado para resolver problemas!!! E um dos problemas mais comuns no mundo real são as regressões. Um problema pode ser modelado como sendo uma regressão quando queremos prever um número real, ou, mais tecnicamente: quando queremos prever uma variável contínua.\n",
    "\n",
    "A ideia desse projeto é iniciar no mundo de machine learning, com separação de bases, avaliação de métricas, uso de cross validation e, finalmente, criação e comparação de modelos preditivos utilizando a biblioteca scikit learn."
   ]
  },
  {
   "cell_type": "markdown",
   "id": "8b689a27",
   "metadata": {},
   "source": [
    "## <a> Objeto de Estudo </a>\n",
    "\n",
    "Vamos trabalhar com informações de planos de saúde! A área médica e de seguradoras de saúde utiliza muito as técnicas de ciência de dados e machine learning para avaliar risco dos seus segurados/pacientes. Vamos utilizar uma base de dados do livro [\"Machine Learning with R\"](https://www.packtpub.com/big-data-and-business-intelligence/machine-learning-r) de Brett Lantz, disponível [aqui](https://github.com/stedy/Machine-Learning-with-R-datasets).\n",
    "\n",
    "O problema que queremos solucionar é prever os gastos com planos de saúde de acordo com as características do segurado. Poderia ser um problema interessante tanto para os segurados (para saber quais características tornam seu plano mais caro ou barato), quanto para seguradoras (para que mantenha suas contas equilibradas e saiba os segurados que devem ter um preço mais alto/baixo).\n",
    "\n",
    "\n",
    "Bora de mão na massa?"
   ]
  },
  {
   "cell_type": "code",
   "execution_count": null,
   "id": "96e65ef8",
   "metadata": {
    "scrolled": true
   },
   "outputs": [],
   "source": [
    "# %pip install scikit-learn seaborn"
   ]
  },
  {
   "cell_type": "code",
   "execution_count": 9,
   "id": "c357c854",
   "metadata": {},
   "outputs": [],
   "source": [
    "# Importando as bibliotecas para leitura dos dados e criação de gráficos\n",
    "import os\n",
    "import pandas as pd\n",
    "from matplotlib import pyplot as plt\n",
    "import numpy as np\n",
    "import seaborn as sns\n",
    "\n",
    "\n",
    "# Configurando pandas para mostrar todas as linhas e colunas\n",
    "pd.set_option('display.max_rows', None)\n",
    "pd.set_option('display.max_columns', None)\n",
    "pd.options.display.max_colwidth = None\n",
    "\n",
    "# Configurando pandas para não mostrar notação científica para números\n",
    "pd.set_option('display.float_format', lambda x: '%.2f' % x)"
   ]
  },
  {
   "cell_type": "code",
   "execution_count": 10,
   "id": "295316e3",
   "metadata": {},
   "outputs": [
    {
     "data": {
      "text/html": [
       "<div>\n",
       "<style scoped>\n",
       "    .dataframe tbody tr th:only-of-type {\n",
       "        vertical-align: middle;\n",
       "    }\n",
       "\n",
       "    .dataframe tbody tr th {\n",
       "        vertical-align: top;\n",
       "    }\n",
       "\n",
       "    .dataframe thead th {\n",
       "        text-align: right;\n",
       "    }\n",
       "</style>\n",
       "<table border=\"1\" class=\"dataframe\">\n",
       "  <thead>\n",
       "    <tr style=\"text-align: right;\">\n",
       "      <th></th>\n",
       "      <th>age</th>\n",
       "      <th>sex</th>\n",
       "      <th>bmi</th>\n",
       "      <th>children</th>\n",
       "      <th>smoker</th>\n",
       "      <th>region</th>\n",
       "      <th>charges</th>\n",
       "    </tr>\n",
       "  </thead>\n",
       "  <tbody>\n",
       "    <tr>\n",
       "      <th>0</th>\n",
       "      <td>19</td>\n",
       "      <td>female</td>\n",
       "      <td>27.90</td>\n",
       "      <td>0</td>\n",
       "      <td>yes</td>\n",
       "      <td>southwest</td>\n",
       "      <td>16884.92</td>\n",
       "    </tr>\n",
       "    <tr>\n",
       "      <th>1</th>\n",
       "      <td>18</td>\n",
       "      <td>male</td>\n",
       "      <td>33.77</td>\n",
       "      <td>1</td>\n",
       "      <td>no</td>\n",
       "      <td>southeast</td>\n",
       "      <td>1725.55</td>\n",
       "    </tr>\n",
       "    <tr>\n",
       "      <th>2</th>\n",
       "      <td>28</td>\n",
       "      <td>male</td>\n",
       "      <td>33.00</td>\n",
       "      <td>3</td>\n",
       "      <td>no</td>\n",
       "      <td>southeast</td>\n",
       "      <td>4449.46</td>\n",
       "    </tr>\n",
       "    <tr>\n",
       "      <th>3</th>\n",
       "      <td>33</td>\n",
       "      <td>male</td>\n",
       "      <td>22.70</td>\n",
       "      <td>0</td>\n",
       "      <td>no</td>\n",
       "      <td>northwest</td>\n",
       "      <td>21984.47</td>\n",
       "    </tr>\n",
       "    <tr>\n",
       "      <th>4</th>\n",
       "      <td>32</td>\n",
       "      <td>male</td>\n",
       "      <td>28.88</td>\n",
       "      <td>0</td>\n",
       "      <td>no</td>\n",
       "      <td>northwest</td>\n",
       "      <td>3866.86</td>\n",
       "    </tr>\n",
       "  </tbody>\n",
       "</table>\n",
       "</div>"
      ],
      "text/plain": [
       "   age     sex   bmi  children smoker     region  charges\n",
       "0   19  female 27.90         0    yes  southwest 16884.92\n",
       "1   18    male 33.77         1     no  southeast  1725.55\n",
       "2   28    male 33.00         3     no  southeast  4449.46\n",
       "3   33    male 22.70         0     no  northwest 21984.47\n",
       "4   32    male 28.88         0     no  northwest  3866.86"
      ]
     },
     "execution_count": 10,
     "metadata": {},
     "output_type": "execute_result"
    }
   ],
   "source": [
    "# Lendo os dados do seguro\n",
    "df_seguro = pd.read_csv('./data/insurance.csv')\n",
    "df_seguro.head()"
   ]
  },
  {
   "cell_type": "code",
   "execution_count": 11,
   "id": "cc5f394d",
   "metadata": {},
   "outputs": [
    {
     "data": {
      "text/plain": [
       "(1338, 7)"
      ]
     },
     "execution_count": 11,
     "metadata": {},
     "output_type": "execute_result"
    }
   ],
   "source": [
    "# Avaliando a quantidade de linhas e colunas\n",
    "df_seguro.shape"
   ]
  },
  {
   "cell_type": "code",
   "execution_count": 12,
   "id": "d4bec7d3",
   "metadata": {},
   "outputs": [
    {
     "data": {
      "text/plain": [
       "age           int64\n",
       "sex          object\n",
       "bmi         float64\n",
       "children      int64\n",
       "smoker       object\n",
       "region       object\n",
       "charges     float64\n",
       "dtype: object"
      ]
     },
     "execution_count": 12,
     "metadata": {},
     "output_type": "execute_result"
    }
   ],
   "source": [
    "# Avaliando os tipos\n",
    "df_seguro.dtypes"
   ]
  },
  {
   "cell_type": "code",
   "execution_count": 13,
   "id": "148bc693",
   "metadata": {},
   "outputs": [
    {
     "name": "stdout",
     "output_type": "stream",
     "text": [
      "<class 'pandas.core.frame.DataFrame'>\n",
      "RangeIndex: 1338 entries, 0 to 1337\n",
      "Data columns (total 7 columns):\n",
      " #   Column    Non-Null Count  Dtype  \n",
      "---  ------    --------------  -----  \n",
      " 0   age       1338 non-null   int64  \n",
      " 1   sex       1338 non-null   object \n",
      " 2   bmi       1338 non-null   float64\n",
      " 3   children  1338 non-null   int64  \n",
      " 4   smoker    1338 non-null   object \n",
      " 5   region    1338 non-null   object \n",
      " 6   charges   1338 non-null   float64\n",
      "dtypes: float64(2), int64(2), object(3)\n",
      "memory usage: 73.3+ KB\n"
     ]
    }
   ],
   "source": [
    "df_seguro.info()"
   ]
  },
  {
   "cell_type": "markdown",
   "id": "ddc9413e",
   "metadata": {},
   "source": [
    "### <a> Criando um dicionário para as colunas </a>"
   ]
  },
  {
   "cell_type": "code",
   "execution_count": 14,
   "id": "4f861f25",
   "metadata": {},
   "outputs": [
    {
     "data": {
      "text/html": [
       "<div>\n",
       "<style scoped>\n",
       "    .dataframe tbody tr th:only-of-type {\n",
       "        vertical-align: middle;\n",
       "    }\n",
       "\n",
       "    .dataframe tbody tr th {\n",
       "        vertical-align: top;\n",
       "    }\n",
       "\n",
       "    .dataframe thead th {\n",
       "        text-align: right;\n",
       "    }\n",
       "</style>\n",
       "<table border=\"1\" class=\"dataframe\">\n",
       "  <thead>\n",
       "    <tr style=\"text-align: right;\">\n",
       "      <th></th>\n",
       "      <th>Coluna</th>\n",
       "      <th>Descrição</th>\n",
       "    </tr>\n",
       "  </thead>\n",
       "  <tbody>\n",
       "    <tr>\n",
       "      <th>0</th>\n",
       "      <td>age</td>\n",
       "      <td>Idade do beneficiário</td>\n",
       "    </tr>\n",
       "    <tr>\n",
       "      <th>1</th>\n",
       "      <td>sex</td>\n",
       "      <td>Sexo do beneficiário (male: masculino, female: feminino)</td>\n",
       "    </tr>\n",
       "    <tr>\n",
       "      <th>2</th>\n",
       "      <td>bmi</td>\n",
       "      <td>Índice de Massa Corporal (BMI) do beneficiário, uma medida da gordura corporal com base na altura e no peso</td>\n",
       "    </tr>\n",
       "    <tr>\n",
       "      <th>3</th>\n",
       "      <td>children</td>\n",
       "      <td>Número de dependentes cobertos pelo plano de saúde</td>\n",
       "    </tr>\n",
       "    <tr>\n",
       "      <th>4</th>\n",
       "      <td>smoker</td>\n",
       "      <td>Indicador se o beneficiário é fumante (yes: sim, no: não)</td>\n",
       "    </tr>\n",
       "    <tr>\n",
       "      <th>5</th>\n",
       "      <td>region</td>\n",
       "      <td>Região de residência do beneficiário (noroeste, sudoeste, sudeste, nordeste)</td>\n",
       "    </tr>\n",
       "    <tr>\n",
       "      <th>6</th>\n",
       "      <td>charges</td>\n",
       "      <td>Custo anual do seguro de saúde cobrado ao beneficiário</td>\n",
       "    </tr>\n",
       "  </tbody>\n",
       "</table>\n",
       "</div>"
      ],
      "text/plain": [
       "     Coluna  \\\n",
       "0       age   \n",
       "1       sex   \n",
       "2       bmi   \n",
       "3  children   \n",
       "4    smoker   \n",
       "5    region   \n",
       "6   charges   \n",
       "\n",
       "                                                                                                     Descrição  \n",
       "0                                                                                        Idade do beneficiário  \n",
       "1                                                     Sexo do beneficiário (male: masculino, female: feminino)  \n",
       "2  Índice de Massa Corporal (BMI) do beneficiário, uma medida da gordura corporal com base na altura e no peso  \n",
       "3                                                           Número de dependentes cobertos pelo plano de saúde  \n",
       "4                                                    Indicador se o beneficiário é fumante (yes: sim, no: não)  \n",
       "5                                 Região de residência do beneficiário (noroeste, sudoeste, sudeste, nordeste)  \n",
       "6                                                       Custo anual do seguro de saúde cobrado ao beneficiário  "
      ]
     },
     "execution_count": 14,
     "metadata": {},
     "output_type": "execute_result"
    }
   ],
   "source": [
    "# Criando um dicionário com explicações para cada coluna\n",
    "descricoes_das_colunas = {\n",
    "    'age': 'Idade do beneficiário',\n",
    "    'sex': 'Sexo do beneficiário (male: masculino, female: feminino)',\n",
    "    'bmi': 'Índice de Massa Corporal (BMI) do beneficiário, uma medida da gordura corporal com base na altura e no peso',\n",
    "    'children': 'Número de dependentes cobertos pelo plano de saúde',\n",
    "    'smoker': 'Indicador se o beneficiário é fumante (yes: sim, no: não)',\n",
    "    'region': 'Região de residência do beneficiário (noroeste, sudoeste, sudeste, nordeste)',\n",
    "    'charges': 'Custo anual do seguro de saúde cobrado ao beneficiário'\n",
    "}\n",
    "\n",
    "# Convertendo o dicionário para um DataFrame\n",
    "dictionary_df = pd.DataFrame(list(descricoes_das_colunas.items()), columns=['Coluna', 'Descrição'])\n",
    "\n",
    "# Salvando o DataFrame em um arquivo CSV\n",
    "dictionary_csv_caminho = 'data/dictionary.csv'\n",
    "dictionary_df.to_csv(dictionary_csv_caminho, index=False)\n",
    "\n",
    "df_dict = pd.read_csv('data/dictionary.csv')\n",
    "df_dict"
   ]
  },
  {
   "cell_type": "markdown",
   "id": "9d77a78c",
   "metadata": {},
   "source": [
    "## <a> Começando com estatística descritiva </a>\n",
    "\n",
    "Conhecer bem as medidas estatísticas, de tendência central, dispersão, separatrizes, distribuições, é essencial para conhecermos melhor os dados em que estamos trabalhando. Qual a distribuição da idade? Índice de massa corporal? E a variável target?"
   ]
  },
  {
   "cell_type": "code",
   "execution_count": 15,
   "id": "6f58402c",
   "metadata": {},
   "outputs": [
    {
     "data": {
      "text/html": [
       "<div>\n",
       "<style scoped>\n",
       "    .dataframe tbody tr th:only-of-type {\n",
       "        vertical-align: middle;\n",
       "    }\n",
       "\n",
       "    .dataframe tbody tr th {\n",
       "        vertical-align: top;\n",
       "    }\n",
       "\n",
       "    .dataframe thead th {\n",
       "        text-align: right;\n",
       "    }\n",
       "</style>\n",
       "<table border=\"1\" class=\"dataframe\">\n",
       "  <thead>\n",
       "    <tr style=\"text-align: right;\">\n",
       "      <th></th>\n",
       "      <th>age</th>\n",
       "      <th>bmi</th>\n",
       "      <th>children</th>\n",
       "      <th>charges</th>\n",
       "    </tr>\n",
       "  </thead>\n",
       "  <tbody>\n",
       "    <tr>\n",
       "      <th>count</th>\n",
       "      <td>1338.00</td>\n",
       "      <td>1338.00</td>\n",
       "      <td>1338.00</td>\n",
       "      <td>1338.00</td>\n",
       "    </tr>\n",
       "    <tr>\n",
       "      <th>mean</th>\n",
       "      <td>39.21</td>\n",
       "      <td>30.66</td>\n",
       "      <td>1.09</td>\n",
       "      <td>13270.42</td>\n",
       "    </tr>\n",
       "    <tr>\n",
       "      <th>std</th>\n",
       "      <td>14.05</td>\n",
       "      <td>6.10</td>\n",
       "      <td>1.21</td>\n",
       "      <td>12110.01</td>\n",
       "    </tr>\n",
       "    <tr>\n",
       "      <th>min</th>\n",
       "      <td>18.00</td>\n",
       "      <td>15.96</td>\n",
       "      <td>0.00</td>\n",
       "      <td>1121.87</td>\n",
       "    </tr>\n",
       "    <tr>\n",
       "      <th>25%</th>\n",
       "      <td>27.00</td>\n",
       "      <td>26.30</td>\n",
       "      <td>0.00</td>\n",
       "      <td>4740.29</td>\n",
       "    </tr>\n",
       "    <tr>\n",
       "      <th>50%</th>\n",
       "      <td>39.00</td>\n",
       "      <td>30.40</td>\n",
       "      <td>1.00</td>\n",
       "      <td>9382.03</td>\n",
       "    </tr>\n",
       "    <tr>\n",
       "      <th>75%</th>\n",
       "      <td>51.00</td>\n",
       "      <td>34.69</td>\n",
       "      <td>2.00</td>\n",
       "      <td>16639.91</td>\n",
       "    </tr>\n",
       "    <tr>\n",
       "      <th>max</th>\n",
       "      <td>64.00</td>\n",
       "      <td>53.13</td>\n",
       "      <td>5.00</td>\n",
       "      <td>63770.43</td>\n",
       "    </tr>\n",
       "  </tbody>\n",
       "</table>\n",
       "</div>"
      ],
      "text/plain": [
       "          age     bmi  children  charges\n",
       "count 1338.00 1338.00   1338.00  1338.00\n",
       "mean    39.21   30.66      1.09 13270.42\n",
       "std     14.05    6.10      1.21 12110.01\n",
       "min     18.00   15.96      0.00  1121.87\n",
       "25%     27.00   26.30      0.00  4740.29\n",
       "50%     39.00   30.40      1.00  9382.03\n",
       "75%     51.00   34.69      2.00 16639.91\n",
       "max     64.00   53.13      5.00 63770.43"
      ]
     },
     "execution_count": 15,
     "metadata": {},
     "output_type": "execute_result"
    }
   ],
   "source": [
    "df_seguro.describe()"
   ]
  },
  {
   "cell_type": "code",
   "execution_count": 16,
   "id": "c1e15b75",
   "metadata": {},
   "outputs": [
    {
     "data": {
      "text/plain": [
       "<Axes: xlabel='age', ylabel='Count'>"
      ]
     },
     "execution_count": 16,
     "metadata": {},
     "output_type": "execute_result"
    },
    {
     "data": {
      "image/png": "[encoded data removed]",
      "text/plain": [
       "<Figure size 640x480 with 1 Axes>"
      ]
     },
     "metadata": {},
     "output_type": "display_data"
    }
   ],
   "source": [
    "# Analisando as distribuições das idades\n",
    "sns.set_style('darkgrid')\n",
    "plt.tight_layout()\n",
    "\n",
    "sns.histplot(data=df_seguro, x='age')"
   ]
  },
  {
   "cell_type": "code",
   "execution_count": 17,
   "id": "80b0fbc2",
   "metadata": {},
   "outputs": [
    {
     "data": {
      "text/plain": [
       "<Axes: xlabel='bmi', ylabel='Count'>"
      ]
     },
     "execution_count": 17,
     "metadata": {},
     "output_type": "execute_result"
    },
    {
     "data": {
      "image/png": "[encoded data removed]",
      "text/plain": [
       "<Figure size 640x480 with 1 Axes>"
      ]
     },
     "metadata": {},
     "output_type": "display_data"
    }
   ],
   "source": [
    "# Analisando as distribuições do índice de massa corporal\n",
    "sns.set_style(\"darkgrid\")\n",
    "plt.tight_layout()\n",
    "\n",
    "sns.histplot(data=df_seguro, x='bmi')"
   ]
  },
  {
   "cell_type": "code",
   "execution_count": 19,
   "id": "e8261a7b",
   "metadata": {},
   "outputs": [
    {
     "data": {
      "text/plain": [
       "<Axes: xlabel='children', ylabel='count'>"
      ]
     },
     "execution_count": 19,
     "metadata": {},
     "output_type": "execute_result"
    },
    {
     "data": {
      "image/png": "[encoded data removed]",
      "text/plain": [
       "<Figure size 640x480 with 1 Axes>"
      ]
     },
     "metadata": {},
     "output_type": "display_data"
    }
   ],
   "source": [
    "# Analisando as quantidades de dependentes\n",
    "sns.set_style(\"darkgrid\")\n",
    "plt.tight_layout()\n",
    "\n",
    "sns.countplot(data=df_seguro, x='children')\n"
   ]
  },
  {
   "cell_type": "code",
   "execution_count": 20,
   "id": "ba2ff21f",
   "metadata": {},
   "outputs": [
    {
     "data": {
      "text/plain": [
       "<Axes: xlabel='charges', ylabel='Count'>"
      ]
     },
     "execution_count": 20,
     "metadata": {},
     "output_type": "execute_result"
    },
    {
     "data": {
      "image/png": "[encoded data removed]",
      "text/plain": [
       "<Figure size 640x480 with 1 Axes>"
      ]
     },
     "metadata": {},
     "output_type": "display_data"
    }
   ],
   "source": [
    "# Analisando a variável target: valor anual do seguro\n",
    "sns.histplot(data=df_seguro['charges'])"
   ]
  },
  {
   "cell_type": "markdown",
   "id": "d4581905",
   "metadata": {},
   "source": [
    "## <a> Relação entre as features e a variável target </a>\n",
    "\n",
    "Uma análise interessante é avaliar relações entre as variáveis preditoras com a target. Vamos analisar as dispersões das variáveis preditoras com o valor do seguro."
   ]
  },
  {
   "cell_type": "code",
   "execution_count": null,
   "id": "feb6d356",
   "metadata": {},
   "outputs": [],
   "source": [
    "# O pairplot faz gráficos de dispersão para os pares de variáveis (incluindo a target)\n",
    "# Na diagonal principal ele mostra o histograma\n",
    "sns.pairplot(data=df_seguro)"
   ]
  },
  {
   "cell_type": "markdown",
   "id": "6ef9953b",
   "metadata": {},
   "source": [
    "Fica evidente uma correlação positiva entre idade e as cobranças de planos de saúde (age x charges). Provavelmente será uma variável de importância no modelo preditivo"
   ]
  },
  {
   "cell_type": "markdown",
   "id": "62d2f0f2",
   "metadata": {},
   "source": [
    "## <a> Codificação de Variáveis Categóricas </a>\n",
    "\n",
    "Lembrando que os modelos de machine learning não sabem o que são categorias em sua maioria, devemos, portanto, codificar as variáveis de sexo, fumante e localização."
   ]
  },
  {
   "cell_type": "code",
   "execution_count": null,
   "id": "6643d960",
   "metadata": {},
   "outputs": [],
   "source": [
    "df_seguro.head()"
   ]
  },
  {
   "cell_type": "code",
   "execution_count": null,
   "id": "485b9385",
   "metadata": {},
   "outputs": [],
   "source": [
    "# Como somente temos variáveis nominais, vamos utilizar One Hot Encoder\n",
    "# Podemos utilizar o get_dummies do pandas, ou o OneHotEncoder do scikit learn\n",
    "# Para variáveis somente com duas classes (sex e smoker), podemos fazer um mapeamento direto\n",
    "\n",
    "df_seguro['female'] = df_seguro['sex'].map({'female': 1, 'male': 0})\n",
    "df_seguro['smoker'] = df_seguro['smoker'].map({'yes': 1, 'no': 0})\n",
    "df_seguro.head()"
   ]
  },
  {
   "cell_type": "code",
   "execution_count": null,
   "id": "25d642a4",
   "metadata": {},
   "outputs": [],
   "source": [
    "df_seguro = df_seguro.drop('sex', axis=1)\n",
    "df_seguro.head()"
   ]
  },
  {
   "cell_type": "code",
   "execution_count": null,
   "id": "fb15ae3b",
   "metadata": {},
   "outputs": [],
   "source": [
    "df_seguro['region'].unique()"
   ]
  },
  {
   "cell_type": "code",
   "execution_count": null,
   "id": "66619f3e",
   "metadata": {
    "scrolled": true
   },
   "outputs": [],
   "source": [
    "# Para as regiões vamos usar OHE\n",
    "colunas_regiao = pd.get_dummies(df_seguro['region'], drop_first=True)\n",
    "colunas_regiao.head()"
   ]
  },
  {
   "cell_type": "code",
   "execution_count": null,
   "id": "8f1344bb",
   "metadata": {},
   "outputs": [],
   "source": [
    "# concat, concatena pandas dataframes, axis=1 ele junta colunas, axis=0 junta linhas\n",
    "pd.concat([df_seguro, colunas_regiao], axis=1).head()"
   ]
  },
  {
   "cell_type": "code",
   "execution_count": null,
   "id": "948f9f5a",
   "metadata": {},
   "outputs": [],
   "source": [
    "df_seguro = pd.concat([df_seguro, colunas_regiao], axis=1)\n",
    "df_seguro = df_seguro.drop('region', axis=1)\n",
    "df_seguro.head()"
   ]
  },
  {
   "cell_type": "markdown",
   "id": "1d849e41",
   "metadata": {},
   "source": [
    "## <a> Determinando quem são variáveis preditoras e variável target </a>\n",
    "\n",
    "Ou... definindo X e y. É a forma mais usual de chamar as variáveis."
   ]
  },
  {
   "cell_type": "code",
   "execution_count": null,
   "id": "c2a4f633",
   "metadata": {},
   "outputs": [],
   "source": [
    "df_seguro.columns"
   ]
  },
  {
   "cell_type": "code",
   "execution_count": null,
   "id": "6d3be836",
   "metadata": {},
   "outputs": [],
   "source": [
    "X = df_seguro.drop('charges', axis=1) # tirando a variável dependente\n",
    "y = df_seguro[['charges']] # extraindo a variável dependente"
   ]
  },
  {
   "cell_type": "code",
   "execution_count": null,
   "id": "cedd2e48",
   "metadata": {},
   "outputs": [],
   "source": [
    "# Variáveis preditoras (ou independentes ou, features)\n",
    "X.head()"
   ]
  },
  {
   "cell_type": "code",
   "execution_count": null,
   "id": "4bd2cca9",
   "metadata": {},
   "outputs": [],
   "source": [
    "# Variável dependente, ou target, ou label (ah, vcs entenderam :)\n",
    "y.head()"
   ]
  },
  {
   "cell_type": "markdown",
   "id": "8039c1c6",
   "metadata": {},
   "source": [
    "## <a> Separação de bases </a>\n",
    "\n",
    "Vamos separar logo essas bases?? Isso evita data leakage porque vamos fazer feature scaling, por exemplo, e tais transformações deve ser realizadas DEPOIS do split (separação)."
   ]
  },
  {
   "cell_type": "code",
   "execution_count": null,
   "id": "c76f6933",
   "metadata": {},
   "outputs": [],
   "source": [
    "# A função que separa nossa base em treino e teste! \n",
    "# Lembrando que faremos cross validation com a base de treino\n",
    "from sklearn.model_selection import train_test_split"
   ]
  },
  {
   "cell_type": "code",
   "execution_count": null,
   "id": "4c24d368",
   "metadata": {},
   "outputs": [],
   "source": [
    "# Devolve uma tupla com 4 elementos: X de treino, X de teste, y de treino, y de teste\n",
    "X_treino, X_teste, y_treino, y_teste = train_test_split(X, # preditoras \n",
    "                                                        y, # target\n",
    "                                                        test_size=.2, \n",
    "                                                        random_state=42)\n",
    "\n",
    "# Vamos ver quantas linhas ficamos com treino e teste\n",
    "X_treino.shape, X_teste.shape, y_treino.shape, y_teste.shape"
   ]
  },
  {
   "cell_type": "code",
   "execution_count": null,
   "id": "e5573ddb",
   "metadata": {},
   "outputs": [],
   "source": [
    "1070/1338"
   ]
  },
  {
   "cell_type": "markdown",
   "id": "23855e79",
   "metadata": {},
   "source": [
    "## <a> Feature Scaling </a>\n",
    "\n",
    "Como usaremos pelo menos um modelo linear, é importante realizar scaling das features para mantê-las numa mesma escala de grandeza. Vamos de MinMaxScaler?"
   ]
  },
  {
   "cell_type": "code",
   "execution_count": null,
   "id": "9901850c",
   "metadata": {},
   "outputs": [],
   "source": [
    "df_seguro.describe()"
   ]
  },
  {
   "cell_type": "code",
   "execution_count": null,
   "id": "f5c86046",
   "metadata": {},
   "outputs": [],
   "source": [
    "# Normalização - MinMaxScaler, Padronização - StandardScaler\n",
    "from sklearn.preprocessing import MinMaxScaler\n",
    "\n",
    "# Criar scaler\n",
    "scaler = MinMaxScaler()"
   ]
  },
  {
   "cell_type": "code",
   "execution_count": null,
   "id": "bb05f7ba",
   "metadata": {},
   "outputs": [],
   "source": [
    "type(scaler)"
   ]
  },
  {
   "cell_type": "code",
   "execution_count": null,
   "id": "cac1ac6e",
   "metadata": {},
   "outputs": [],
   "source": [
    "scaler"
   ]
  },
  {
   "cell_type": "code",
   "execution_count": null,
   "id": "3cd715d1",
   "metadata": {},
   "outputs": [],
   "source": [
    "colunas = X_treino.columns\n",
    "\n",
    "# Parte importante!! Fit no treino! Transform no treino e teste\n",
    "X_treino[colunas] = scaler.fit_transform(X_treino)\n",
    "X_teste[colunas] = scaler.transform(X_teste)\n",
    "\n",
    "X_treino.shape, X_teste.shape"
   ]
  },
  {
   "cell_type": "code",
   "execution_count": null,
   "id": "eaaf0570",
   "metadata": {},
   "outputs": [],
   "source": [
    "X_treino.head()"
   ]
  },
  {
   "cell_type": "code",
   "execution_count": null,
   "id": "db225a15",
   "metadata": {},
   "outputs": [],
   "source": [
    "X_treino.describe()"
   ]
  },
  {
   "cell_type": "code",
   "execution_count": null,
   "id": "f445fac5",
   "metadata": {},
   "outputs": [],
   "source": [
    "X_teste.describe()"
   ]
  },
  {
   "cell_type": "markdown",
   "id": "f2cb8e39",
   "metadata": {},
   "source": [
    "## <a> Analisando a correlação entre variáveis </a>\n",
    "\n",
    "Quando utilizamos modelos lineares, é importante saber se as variáveis preditoras guardam alguma colinearidade. Caso ocorra, devemos remover uma das variáveis para que o modelo não seja afetado. "
   ]
  },
  {
   "cell_type": "code",
   "execution_count": null,
   "id": "6962cf3a",
   "metadata": {},
   "outputs": [],
   "source": [
    "figura, graficos = plt.subplots(figsize=(10, 8))\n",
    "corr = df_seguro.corr()\n",
    "sns.heatmap(corr, mask=np.zeros_like(corr, dtype=bool), \n",
    "            square=True, ax=graficos)"
   ]
  },
  {
   "cell_type": "markdown",
   "id": "fcbd1d19",
   "metadata": {},
   "source": [
    "## <a> Analisando se existem dados faltantes </a>"
   ]
  },
  {
   "cell_type": "code",
   "execution_count": null,
   "id": "74b70f93",
   "metadata": {},
   "outputs": [],
   "source": [
    "# isnull busca quem é nulo (dados faltantes)\n",
    "df_seguro.isnull().sum()"
   ]
  },
  {
   "cell_type": "markdown",
   "id": "0b5e2f8c",
   "metadata": {},
   "source": [
    "## <a> Vamos de Machine Learning? </a>\n",
    "\n",
    "Primeiro modelo que vamos treinar é a regressão linear. Lembrando que vamos utilizar cross validation para evitar overfit e ter uma base de comparação para outros modelos"
   ]
  },
  {
   "cell_type": "code",
   "execution_count": null,
   "id": "fd01a273",
   "metadata": {},
   "outputs": [],
   "source": [
    "from sklearn.linear_model import LinearRegression\n",
    "from sklearn.model_selection import cross_val_score"
   ]
  },
  {
   "cell_type": "code",
   "execution_count": null,
   "id": "ec965690",
   "metadata": {},
   "outputs": [],
   "source": [
    "# Criando o estimador, algorimo, modelo, preditor, regressor (virge, que tanto de nome!)\n",
    "regressao_linear = LinearRegression()\n",
    "\n",
    "# Vamos treinar utilizando cross validation\n",
    "valores_rmse_rl = cross_val_score(estimator=regressao_linear, \n",
    "                                  X=X_treino, \n",
    "                                  y=y_treino, \n",
    "                                  cv=10, # 10-fold CV\n",
    "                                  scoring='neg_root_mean_squared_error')\n",
    "valores_rmse_rl"
   ]
  },
  {
   "cell_type": "code",
   "execution_count": null,
   "id": "b123bdfd",
   "metadata": {},
   "outputs": [],
   "source": [
    "len(valores_rmse_rl)"
   ]
  },
  {
   "cell_type": "code",
   "execution_count": null,
   "id": "fb0c159a",
   "metadata": {},
   "outputs": [],
   "source": [
    "valores_rmse_rl = valores_rmse_rl * -1\n",
    "valores_rmse_rl"
   ]
  },
  {
   "cell_type": "code",
   "execution_count": null,
   "id": "eb276513",
   "metadata": {},
   "outputs": [],
   "source": [
    "media_rmse_rl = valores_rmse_rl.mean()\n",
    "media_rmse_rl"
   ]
  },
  {
   "cell_type": "markdown",
   "id": "ae91e3f1",
   "metadata": {},
   "source": [
    "### Vamos tentar agora uma árvore de regressão?"
   ]
  },
  {
   "cell_type": "code",
   "execution_count": null,
   "id": "f5ac0f7d",
   "metadata": {},
   "outputs": [],
   "source": [
    "from sklearn.tree import DecisionTreeRegressor\n",
    "\n",
    "arvore_regressao = DecisionTreeRegressor()\n",
    "\n",
    "# Vamos treinar utilizando cross validation (sempre!!)\n",
    "valores_rmse_arvore = cross_val_score(estimator=arvore_regressao, \n",
    "                                      X=X_treino, \n",
    "                                      y=y_treino, \n",
    "                                      cv=10, # \n",
    "                                  scoring='neg_root_mean_squared_error')\n",
    "valores_rmse_arvore"
   ]
  },
  {
   "cell_type": "code",
   "execution_count": null,
   "id": "00b0ace6",
   "metadata": {},
   "outputs": [],
   "source": [
    "valores_rmse_arvore = valores_rmse_arvore * -1\n",
    "valores_rmse_arvore"
   ]
  },
  {
   "cell_type": "code",
   "execution_count": null,
   "id": "a792fe90",
   "metadata": {},
   "outputs": [],
   "source": [
    "media_rmse_arvore = valores_rmse_arvore.mean()\n",
    "media_rmse_arvore"
   ]
  },
  {
   "cell_type": "markdown",
   "id": "571316e0",
   "metadata": {},
   "source": [
    "### E se retiramos as colunas de regiões. Na análise de correlação elas não mostraram muita influência na variável target"
   ]
  },
  {
   "cell_type": "code",
   "execution_count": null,
   "id": "ec9a17c1",
   "metadata": {},
   "outputs": [],
   "source": [
    "X_treino.columns"
   ]
  },
  {
   "cell_type": "code",
   "execution_count": null,
   "id": "9e284421",
   "metadata": {},
   "outputs": [],
   "source": [
    "# Vamos treinar utilizando cross validation (sempre!!)\n",
    "colunas_regiao = ['northwest', 'southeast', 'southwest']\n",
    "valores_rmse_rl_sem_regiao = cross_val_score(estimator=regressao_linear, \n",
    "                                             X=X_treino.drop(colunas_regiao, axis=1), \n",
    "                                             y=y_treino, \n",
    "                                             cv=10, \n",
    "                                      scoring='neg_root_mean_squared_error')\n",
    "valores_rmse_rl_sem_regiao.mean() * -1"
   ]
  },
  {
   "cell_type": "code",
   "execution_count": null,
   "id": "7b449c73",
   "metadata": {},
   "outputs": [],
   "source": [
    "valores_rmse_rl_sem_regiao = valores_rmse_rl_sem_regiao * -1"
   ]
  },
  {
   "cell_type": "code",
   "execution_count": null,
   "id": "330ed21c",
   "metadata": {},
   "outputs": [],
   "source": [
    "# Vamos treinar utilizando cross validation (sempre!!)\n",
    "colunas_regiao = ['northwest', 'southeast', 'southwest']\n",
    "valores_rmse_arvore_sem_regiao = cross_val_score(estimator=arvore_regressao, \n",
    "                                                 X=X_treino.drop(colunas_regiao, axis=1), \n",
    "                                                 y=y_treino, cv=10, \n",
    "                                      scoring='neg_root_mean_squared_error')\n",
    "valores_rmse_arvore_sem_regiao.mean() * -1"
   ]
  },
  {
   "cell_type": "code",
   "execution_count": null,
   "id": "c63f7365",
   "metadata": {},
   "outputs": [],
   "source": [
    "valores_rmse_arvore_sem_regiao = valores_rmse_arvore_sem_regiao * -1"
   ]
  },
  {
   "cell_type": "code",
   "execution_count": null,
   "id": "e56063a4",
   "metadata": {},
   "outputs": [],
   "source": [
    "rmse = pd.DataFrame({'regressao_linear': valores_rmse_rl_sem_regiao, 'arvore_regressao': valores_rmse_arvore})\n",
    "\n",
    "sns.boxplot(data=rmse).set_title(\"Comparação de RMSE\")"
   ]
  },
  {
   "cell_type": "markdown",
   "id": "a4a196d9",
   "metadata": {},
   "source": [
    "## <a> Modelo Campeão! </a>\n",
    "\n",
    "Agora que temos um modelo campeao, vamos treinar modelo na base de treinamento toda!\n"
   ]
  },
  {
   "cell_type": "code",
   "execution_count": null,
   "id": "16ea3a2f",
   "metadata": {},
   "outputs": [],
   "source": [
    "regressao_linear.fit(X_treino.drop(colunas_regiao, axis=1), y_treino)"
   ]
  },
  {
   "cell_type": "code",
   "execution_count": null,
   "id": "56c54137",
   "metadata": {},
   "outputs": [],
   "source": [
    "regressao_linear.coef_"
   ]
  },
  {
   "cell_type": "code",
   "execution_count": null,
   "id": "68cbc1dd",
   "metadata": {},
   "outputs": [],
   "source": [
    "df_coeficientes = pd.DataFrame(regressao_linear.coef_)\n",
    "df_coeficientes.columns=regressao_linear.feature_names_in_\n",
    "df_coeficientes"
   ]
  },
  {
   "cell_type": "code",
   "execution_count": null,
   "id": "a5268abb",
   "metadata": {},
   "outputs": [],
   "source": [
    "#!pip install statsmodels"
   ]
  },
  {
   "cell_type": "code",
   "execution_count": null,
   "id": "8c704f7a",
   "metadata": {},
   "outputs": [],
   "source": [
    "# Extra: podemos calcular o p-valor dos coeficientes de cada regressão utilizando o pacote statsmodels\n",
    "import statsmodels.api as sm\n",
    "\n",
    "rl_statsmodels = sm.OLS(y_treino,X_treino.drop(colunas_regiao, axis=1))\n",
    "resultado_fit = rl_statsmodels.fit()\n",
    "p_valores = resultado_fit.summary2().tables[1]['P>|t|']\n",
    "p_valores"
   ]
  },
  {
   "cell_type": "markdown",
   "id": "8e7bde84",
   "metadata": {},
   "source": [
    "Ou seja, os coeficientes para crianças e sexo não são estatisticamente válidos, devemos ter cautela ao analisar o impacto nos valores do plano de saúde. Mas idade, índice de massa corporal e se a pessoa fuma ou não, tá liberado! Se a estatística falou, tá falado :)"
   ]
  },
  {
   "cell_type": "markdown",
   "id": "ceedd3ba",
   "metadata": {},
   "source": [
    "## <a> Finalmente </a>\n",
    "\n",
    "Agora que temos nosso modelo final, podemos fazer inferências dos valores do plano de saúde no teste. Percebam que nunca utilizamos o teste PARA NADA, como deve ser."
   ]
  },
  {
   "cell_type": "code",
   "execution_count": null,
   "id": "02129ad6",
   "metadata": {},
   "outputs": [],
   "source": [
    "# ver estimadores scikit learn\n",
    "# estimador é treinado com fit\n",
    "# estimador prediz com predict\n",
    "precos_preditos = regressao_linear.predict(X_teste.drop(colunas_regiao, axis=1))\n",
    "precos_preditos[:5]"
   ]
  },
  {
   "cell_type": "code",
   "execution_count": null,
   "id": "2dedcaba",
   "metadata": {},
   "outputs": [],
   "source": [
    "len(precos_preditos)"
   ]
  },
  {
   "cell_type": "code",
   "execution_count": null,
   "id": "fbf1336c",
   "metadata": {},
   "outputs": [],
   "source": [
    "y_teste.head()"
   ]
  },
  {
   "cell_type": "code",
   "execution_count": null,
   "id": "ad7b4c88",
   "metadata": {
    "scrolled": false
   },
   "outputs": [],
   "source": [
    "predicoes_vs_real = pd.DataFrame({'predicao': precos_preditos.flatten(), 'real': y_teste.values.flatten()})\n",
    "predicoes_vs_real['diferenca_abs'] = abs(predicoes_vs_real['predicao'] - predicoes_vs_real['real'])\n",
    "predicoes_vs_real.head(20)"
   ]
  },
  {
   "cell_type": "code",
   "execution_count": null,
   "id": "3dcdf2cc",
   "metadata": {},
   "outputs": [],
   "source": [
    "# Tudo muito bem, tudo muito bom. Mas será que uma simples média é melhor do \n",
    "# que nosso modelo? Vamos testar o r quadrado\n",
    "from sklearn.metrics import r2_score\n",
    "\n",
    "r2_score(y_true=y_teste, y_pred=precos_preditos)"
   ]
  },
  {
   "cell_type": "markdown",
   "id": "9bfe118c",
   "metadata": {},
   "source": [
    "Até que 0,78 não é ruim, nosso modelo explica bastante a variável target"
   ]
  },
  {
   "cell_type": "markdown",
   "id": "52312753",
   "metadata": {},
   "source": [
    "#### Quer testar uma predição com inputs?"
   ]
  },
  {
   "cell_type": "code",
   "execution_count": null,
   "id": "c1d1cce0",
   "metadata": {},
   "outputs": [],
   "source": [
    "X_teste.drop(colunas_regiao, axis=1).columns"
   ]
  },
  {
   "cell_type": "code",
   "execution_count": null,
   "id": "897d35fe",
   "metadata": {},
   "outputs": [],
   "source": [
    "idade = input()"
   ]
  },
  {
   "cell_type": "code",
   "execution_count": null,
   "id": "f68d7bac",
   "metadata": {},
   "outputs": [],
   "source": [
    "indice_massa_corporal = input()"
   ]
  },
  {
   "cell_type": "code",
   "execution_count": null,
   "id": "6df17dd1",
   "metadata": {},
   "outputs": [],
   "source": [
    "criancas = input()"
   ]
  },
  {
   "cell_type": "code",
   "execution_count": null,
   "id": "99097081",
   "metadata": {},
   "outputs": [],
   "source": [
    "fumante = input(\"1 para fumante, 0 para não fumante: \")"
   ]
  },
  {
   "cell_type": "code",
   "execution_count": null,
   "id": "9436c123",
   "metadata": {},
   "outputs": [],
   "source": [
    "sexo = input(\"1 para mulher, 0 para homem: \")"
   ]
  },
  {
   "cell_type": "code",
   "execution_count": null,
   "id": "f8d1fe31",
   "metadata": {},
   "outputs": [],
   "source": [
    "idade, indice_massa_corporal, criancas, fumante, sexo"
   ]
  },
  {
   "cell_type": "code",
   "execution_count": null,
   "id": "d04b5993",
   "metadata": {},
   "outputs": [],
   "source": [
    "# Realizando scaling das features\n",
    "#scaler_sem_regiao = MinMaxScaler()\n",
    "#scaler_sem_regiao.fit(X_treino.drop(colunas_regiao, axis=1))\n",
    "\n",
    "# Completamos com 1,1,1 porque o X_treino original tinha colunas de região\n",
    "features = [[idade, indice_massa_corporal, criancas, fumante, sexo, 1, 1, 1]]\n",
    "\n",
    "# O scaler é lááááá do treino (nada de fitar de novo)\n",
    "features = scaler.transform(features)\n",
    "features"
   ]
  },
  {
   "cell_type": "code",
   "execution_count": null,
   "id": "9a8d22a8",
   "metadata": {},
   "outputs": [],
   "source": [
    "features"
   ]
  },
  {
   "cell_type": "code",
   "execution_count": null,
   "id": "2ef3789b",
   "metadata": {},
   "outputs": [],
   "source": [
    "# Pegando somente as 5 features\n",
    "features = features[:,:-3]\n",
    "features"
   ]
  },
  {
   "cell_type": "code",
   "execution_count": null,
   "id": "6e47fbe7",
   "metadata": {},
   "outputs": [],
   "source": [
    "# Resultado da predição!\n",
    "regressao_linear.predict(features)"
   ]
  },
  {
   "cell_type": "code",
   "execution_count": null,
   "id": "819c8730",
   "metadata": {},
   "outputs": [],
   "source": []
  }
 ],
 "metadata": {
  "kernelspec": {
   "display_name": "Python 3 (ipykernel)",
   "language": "python",
   "name": "python3"
  },
  "language_info": {
   "codemirror_mode": {
    "name": "ipython",
    "version": 3
   },
   "file_extension": ".py",
   "mimetype": "text/x-python",
   "name": "python",
   "nbconvert_exporter": "python",
   "pygments_lexer": "ipython3",
   "version": "3.12.4"
  }
 },
 "nbformat": 4,
 "nbformat_minor": 5
}
